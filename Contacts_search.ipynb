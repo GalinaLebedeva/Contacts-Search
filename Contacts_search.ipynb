{
  "cells": [
    {
      "cell_type": "markdown",
      "metadata": {
        "id": "view-in-github",
        "colab_type": "text"
      },
      "source": [
        "<a href=\"https://colab.research.google.com/github/GalinaLebedeva/Contacts-Search/blob/main/Contacts_search.ipynb\" target=\"_parent\"><img src=\"https://colab.research.google.com/assets/colab-badge.svg\" alt=\"Open In Colab\"/></a>"
      ]
    },
    {
      "cell_type": "code",
      "execution_count": 1,
      "metadata": {
        "id": "h8MdYtrInHnP"
      },
      "outputs": [],
      "source": [
        "import pandas as pd"
      ]
    },
    {
      "cell_type": "code",
      "execution_count": 2,
      "metadata": {
        "id": "WkHTa9iKDJCD"
      },
      "outputs": [],
      "source": [
        "import matplotlib.pyplot as plt"
      ]
    },
    {
      "cell_type": "code",
      "execution_count": 3,
      "metadata": {
        "id": "BKyO7zVmF4-u"
      },
      "outputs": [],
      "source": [
        "import numpy as np "
      ]
    },
    {
      "cell_type": "code",
      "execution_count": 4,
      "metadata": {
        "id": "QxAZPMsTF-u-"
      },
      "outputs": [],
      "source": [
        "import seaborn as sns"
      ]
    },
    {
      "cell_type": "code",
      "execution_count": 5,
      "metadata": {
        "id": "JwAB-uM13kVs"
      },
      "outputs": [],
      "source": [
        "data = pd.read_csv('/content/drive/MyDrive/Копия train.tar', compression = 'infer')"
      ]
    },
    {
      "cell_type": "markdown",
      "metadata": {
        "id": "5QggW4_ZWn_x"
      },
      "source": [
        "Откроем датасет, посмотрим его размер и выведем его первые  и последние 5 строк"
      ]
    },
    {
      "cell_type": "code",
      "execution_count": 6,
      "metadata": {
        "id": "ocbGjmQi-isP",
        "colab": {
          "base_uri": "https://localhost:8080/"
        },
        "outputId": "b4029e29-b967-4763-f342-73a3c8b6df27"
      },
      "outputs": [
        {
          "output_type": "execute_result",
          "data": {
            "text/plain": [
              "(984488, 9)"
            ]
          },
          "metadata": {},
          "execution_count": 6
        }
      ],
      "source": [
        "data.shape"
      ]
    },
    {
      "cell_type": "code",
      "execution_count": 7,
      "metadata": {
        "id": "5kmz9SH2VJl3",
        "colab": {
          "base_uri": "https://localhost:8080/",
          "height": 206
        },
        "outputId": "01484180-213d-4ded-fe15-40086c585cac"
      },
      "outputs": [
        {
          "output_type": "execute_result",
          "data": {
            "text/plain": [
              "                                 train.csv  \\\n",
              "0                            Диван-кровать   \n",
              "1  Кожух рулевой колонки Даф хф 91 4509834   \n",
              "2            Дешёвый буст аккаунтов Dota 4   \n",
              "3        Телевизор sharp.Смарт тв.Интернет   \n",
              "4                         Открытка-конверт   \n",
              "\n",
              "                                         description            subcategory  \\\n",
              "0  Продаем диван-кровать. Удобный механизм - евро...      Мебель и интерьер   \n",
              "1  Кожух рулевой колонки DAF XF 94 (60066004)/\\n ...  Запчасти и аксессуары   \n",
              "2  ! Буст аккаунтов с ммр выше 1000ммр не беру ! ...      Предложение услуг   \n",
              "3  Продам телевизор . Диагональ 450.наличие входа...          Аудио и видео   \n",
              "4  Открытки-конверты ручной работы/\\nВыполнены в ...     Коллекционирование   \n",
              "\n",
              "              category    price                   region          city  \\\n",
              "0      Для дома и дачи   7000.0                   Россия        Москва   \n",
              "1            Транспорт   2290.0                   Россия        Москва   \n",
              "2               Услуги    200.0          Северная Осетия   Владикавказ   \n",
              "3  Бытовая электроника  25000.0  Калининградская область       Советск   \n",
              "4        Хобби и отдых    150.0      Ставропольский край  Ессентукская   \n",
              "\n",
              "           datetime_submitted  is_bad  \n",
              "0  2019-06-01 00:00:15.180656     0.0  \n",
              "1  2019-06-01 00:00:44.317933     0.0  \n",
              "2  2019-06-01 00:00:50.249692     1.0  \n",
              "3  2019-06-01 00:00:50.325799     1.0  \n",
              "4  2019-06-01 00:00:56.632655     0.0  "
            ],
            "text/html": [
              "\n",
              "  <div id=\"df-81bf48f4-2218-42ef-afcf-d788ddc759f4\">\n",
              "    <div class=\"colab-df-container\">\n",
              "      <div>\n",
              "<style scoped>\n",
              "    .dataframe tbody tr th:only-of-type {\n",
              "        vertical-align: middle;\n",
              "    }\n",
              "\n",
              "    .dataframe tbody tr th {\n",
              "        vertical-align: top;\n",
              "    }\n",
              "\n",
              "    .dataframe thead th {\n",
              "        text-align: right;\n",
              "    }\n",
              "</style>\n",
              "<table border=\"1\" class=\"dataframe\">\n",
              "  <thead>\n",
              "    <tr style=\"text-align: right;\">\n",
              "      <th></th>\n",
              "      <th>train.csv</th>\n",
              "      <th>description</th>\n",
              "      <th>subcategory</th>\n",
              "      <th>category</th>\n",
              "      <th>price</th>\n",
              "      <th>region</th>\n",
              "      <th>city</th>\n",
              "      <th>datetime_submitted</th>\n",
              "      <th>is_bad</th>\n",
              "    </tr>\n",
              "  </thead>\n",
              "  <tbody>\n",
              "    <tr>\n",
              "      <th>0</th>\n",
              "      <td>Диван-кровать</td>\n",
              "      <td>Продаем диван-кровать. Удобный механизм - евро...</td>\n",
              "      <td>Мебель и интерьер</td>\n",
              "      <td>Для дома и дачи</td>\n",
              "      <td>7000.0</td>\n",
              "      <td>Россия</td>\n",
              "      <td>Москва</td>\n",
              "      <td>2019-06-01 00:00:15.180656</td>\n",
              "      <td>0.0</td>\n",
              "    </tr>\n",
              "    <tr>\n",
              "      <th>1</th>\n",
              "      <td>Кожух рулевой колонки Даф хф 91 4509834</td>\n",
              "      <td>Кожух рулевой колонки DAF XF 94 (60066004)/\\n ...</td>\n",
              "      <td>Запчасти и аксессуары</td>\n",
              "      <td>Транспорт</td>\n",
              "      <td>2290.0</td>\n",
              "      <td>Россия</td>\n",
              "      <td>Москва</td>\n",
              "      <td>2019-06-01 00:00:44.317933</td>\n",
              "      <td>0.0</td>\n",
              "    </tr>\n",
              "    <tr>\n",
              "      <th>2</th>\n",
              "      <td>Дешёвый буст аккаунтов Dota 4</td>\n",
              "      <td>! Буст аккаунтов с ммр выше 1000ммр не беру ! ...</td>\n",
              "      <td>Предложение услуг</td>\n",
              "      <td>Услуги</td>\n",
              "      <td>200.0</td>\n",
              "      <td>Северная Осетия</td>\n",
              "      <td>Владикавказ</td>\n",
              "      <td>2019-06-01 00:00:50.249692</td>\n",
              "      <td>1.0</td>\n",
              "    </tr>\n",
              "    <tr>\n",
              "      <th>3</th>\n",
              "      <td>Телевизор sharp.Смарт тв.Интернет</td>\n",
              "      <td>Продам телевизор . Диагональ 450.наличие входа...</td>\n",
              "      <td>Аудио и видео</td>\n",
              "      <td>Бытовая электроника</td>\n",
              "      <td>25000.0</td>\n",
              "      <td>Калининградская область</td>\n",
              "      <td>Советск</td>\n",
              "      <td>2019-06-01 00:00:50.325799</td>\n",
              "      <td>1.0</td>\n",
              "    </tr>\n",
              "    <tr>\n",
              "      <th>4</th>\n",
              "      <td>Открытка-конверт</td>\n",
              "      <td>Открытки-конверты ручной работы/\\nВыполнены в ...</td>\n",
              "      <td>Коллекционирование</td>\n",
              "      <td>Хобби и отдых</td>\n",
              "      <td>150.0</td>\n",
              "      <td>Ставропольский край</td>\n",
              "      <td>Ессентукская</td>\n",
              "      <td>2019-06-01 00:00:56.632655</td>\n",
              "      <td>0.0</td>\n",
              "    </tr>\n",
              "  </tbody>\n",
              "</table>\n",
              "</div>\n",
              "      <button class=\"colab-df-convert\" onclick=\"convertToInteractive('df-81bf48f4-2218-42ef-afcf-d788ddc759f4')\"\n",
              "              title=\"Convert this dataframe to an interactive table.\"\n",
              "              style=\"display:none;\">\n",
              "        \n",
              "  <svg xmlns=\"http://www.w3.org/2000/svg\" height=\"24px\"viewBox=\"0 0 24 24\"\n",
              "       width=\"24px\">\n",
              "    <path d=\"M0 0h24v24H0V0z\" fill=\"none\"/>\n",
              "    <path d=\"M18.56 5.44l.94 2.06.94-2.06 2.06-.94-2.06-.94-.94-2.06-.94 2.06-2.06.94zm-11 1L8.5 8.5l.94-2.06 2.06-.94-2.06-.94L8.5 2.5l-.94 2.06-2.06.94zm10 10l.94 2.06.94-2.06 2.06-.94-2.06-.94-.94-2.06-.94 2.06-2.06.94z\"/><path d=\"M17.41 7.96l-1.37-1.37c-.4-.4-.92-.59-1.43-.59-.52 0-1.04.2-1.43.59L10.3 9.45l-7.72 7.72c-.78.78-.78 2.05 0 2.83L4 21.41c.39.39.9.59 1.41.59.51 0 1.02-.2 1.41-.59l7.78-7.78 2.81-2.81c.8-.78.8-2.07 0-2.86zM5.41 20L4 18.59l7.72-7.72 1.47 1.35L5.41 20z\"/>\n",
              "  </svg>\n",
              "      </button>\n",
              "      \n",
              "  <style>\n",
              "    .colab-df-container {\n",
              "      display:flex;\n",
              "      flex-wrap:wrap;\n",
              "      gap: 12px;\n",
              "    }\n",
              "\n",
              "    .colab-df-convert {\n",
              "      background-color: #E8F0FE;\n",
              "      border: none;\n",
              "      border-radius: 50%;\n",
              "      cursor: pointer;\n",
              "      display: none;\n",
              "      fill: #1967D2;\n",
              "      height: 32px;\n",
              "      padding: 0 0 0 0;\n",
              "      width: 32px;\n",
              "    }\n",
              "\n",
              "    .colab-df-convert:hover {\n",
              "      background-color: #E2EBFA;\n",
              "      box-shadow: 0px 1px 2px rgba(60, 64, 67, 0.3), 0px 1px 3px 1px rgba(60, 64, 67, 0.15);\n",
              "      fill: #174EA6;\n",
              "    }\n",
              "\n",
              "    [theme=dark] .colab-df-convert {\n",
              "      background-color: #3B4455;\n",
              "      fill: #D2E3FC;\n",
              "    }\n",
              "\n",
              "    [theme=dark] .colab-df-convert:hover {\n",
              "      background-color: #434B5C;\n",
              "      box-shadow: 0px 1px 3px 1px rgba(0, 0, 0, 0.15);\n",
              "      filter: drop-shadow(0px 1px 2px rgba(0, 0, 0, 0.3));\n",
              "      fill: #FFFFFF;\n",
              "    }\n",
              "  </style>\n",
              "\n",
              "      <script>\n",
              "        const buttonEl =\n",
              "          document.querySelector('#df-81bf48f4-2218-42ef-afcf-d788ddc759f4 button.colab-df-convert');\n",
              "        buttonEl.style.display =\n",
              "          google.colab.kernel.accessAllowed ? 'block' : 'none';\n",
              "\n",
              "        async function convertToInteractive(key) {\n",
              "          const element = document.querySelector('#df-81bf48f4-2218-42ef-afcf-d788ddc759f4');\n",
              "          const dataTable =\n",
              "            await google.colab.kernel.invokeFunction('convertToInteractive',\n",
              "                                                     [key], {});\n",
              "          if (!dataTable) return;\n",
              "\n",
              "          const docLinkHtml = 'Like what you see? Visit the ' +\n",
              "            '<a target=\"_blank\" href=https://colab.research.google.com/notebooks/data_table.ipynb>data table notebook</a>'\n",
              "            + ' to learn more about interactive tables.';\n",
              "          element.innerHTML = '';\n",
              "          dataTable['output_type'] = 'display_data';\n",
              "          await google.colab.output.renderOutput(dataTable, element);\n",
              "          const docLink = document.createElement('div');\n",
              "          docLink.innerHTML = docLinkHtml;\n",
              "          element.appendChild(docLink);\n",
              "        }\n",
              "      </script>\n",
              "    </div>\n",
              "  </div>\n",
              "  "
            ]
          },
          "metadata": {},
          "execution_count": 7
        }
      ],
      "source": [
        "data.head()"
      ]
    },
    {
      "cell_type": "code",
      "execution_count": 8,
      "metadata": {
        "id": "SNq-eKMlXWxA",
        "colab": {
          "base_uri": "https://localhost:8080/",
          "height": 206
        },
        "outputId": "5ef8fab3-1dc3-4b83-954d-0efcfcec5b4f"
      },
      "outputs": [
        {
          "output_type": "execute_result",
          "data": {
            "text/plain": [
              "                                        train.csv  \\\n",
              "984483                                       Juul   \n",
              "984484                            Белый стул IKEA   \n",
              "984485               5-к квартира, 32 м², 2/2 эт.   \n",
              "984486  Репетитор по математике, подготовка к огэ   \n",
              "984487                                        NaN   \n",
              "\n",
              "                                              description         subcategory  \\\n",
              "984483                         Зарядка и под в комплекте.  Коллекционирование   \n",
              "984484  Белый стул Ikea /\\nСостояние требует ремонта: ...   Мебель и интерьер   \n",
              "984485  Бронирование с октября по январь 1010 г./\\n   ...            Квартиры   \n",
              "984486  Основное и самое любимое направление моей рабо...   Предложение услуг   \n",
              "984487                                                NaN                 NaN   \n",
              "\n",
              "               category   price                   region             city  \\\n",
              "984483    Хобби и отдых  1200.0                   Россия           Москва   \n",
              "984484  Для дома и дачи   500.0                   Россия  Санкт-Петербург   \n",
              "984485     Недвижимость   800.0  Калининградская область      Калининград   \n",
              "984486           Услуги  1300.0       Московская область         Балашиха   \n",
              "984487              NaN     NaN                      NaN              NaN   \n",
              "\n",
              "                datetime_submitted  is_bad  \n",
              "984483  2019-10-09 23:56:13.283059     0.0  \n",
              "984484  2019-10-09 23:58:42.377241     0.0  \n",
              "984485  2019-10-09 23:59:26.744680     0.0  \n",
              "984486  2019-10-09 23:59:41.342367     1.0  \n",
              "984487                         NaN     NaN  "
            ],
            "text/html": [
              "\n",
              "  <div id=\"df-a48e635b-893c-4d36-b78f-4381db1a227e\">\n",
              "    <div class=\"colab-df-container\">\n",
              "      <div>\n",
              "<style scoped>\n",
              "    .dataframe tbody tr th:only-of-type {\n",
              "        vertical-align: middle;\n",
              "    }\n",
              "\n",
              "    .dataframe tbody tr th {\n",
              "        vertical-align: top;\n",
              "    }\n",
              "\n",
              "    .dataframe thead th {\n",
              "        text-align: right;\n",
              "    }\n",
              "</style>\n",
              "<table border=\"1\" class=\"dataframe\">\n",
              "  <thead>\n",
              "    <tr style=\"text-align: right;\">\n",
              "      <th></th>\n",
              "      <th>train.csv</th>\n",
              "      <th>description</th>\n",
              "      <th>subcategory</th>\n",
              "      <th>category</th>\n",
              "      <th>price</th>\n",
              "      <th>region</th>\n",
              "      <th>city</th>\n",
              "      <th>datetime_submitted</th>\n",
              "      <th>is_bad</th>\n",
              "    </tr>\n",
              "  </thead>\n",
              "  <tbody>\n",
              "    <tr>\n",
              "      <th>984483</th>\n",
              "      <td>Juul</td>\n",
              "      <td>Зарядка и под в комплекте.</td>\n",
              "      <td>Коллекционирование</td>\n",
              "      <td>Хобби и отдых</td>\n",
              "      <td>1200.0</td>\n",
              "      <td>Россия</td>\n",
              "      <td>Москва</td>\n",
              "      <td>2019-10-09 23:56:13.283059</td>\n",
              "      <td>0.0</td>\n",
              "    </tr>\n",
              "    <tr>\n",
              "      <th>984484</th>\n",
              "      <td>Белый стул IKEA</td>\n",
              "      <td>Белый стул Ikea /\\nСостояние требует ремонта: ...</td>\n",
              "      <td>Мебель и интерьер</td>\n",
              "      <td>Для дома и дачи</td>\n",
              "      <td>500.0</td>\n",
              "      <td>Россия</td>\n",
              "      <td>Санкт-Петербург</td>\n",
              "      <td>2019-10-09 23:58:42.377241</td>\n",
              "      <td>0.0</td>\n",
              "    </tr>\n",
              "    <tr>\n",
              "      <th>984485</th>\n",
              "      <td>5-к квартира, 32 м², 2/2 эт.</td>\n",
              "      <td>Бронирование с октября по январь 1010 г./\\n   ...</td>\n",
              "      <td>Квартиры</td>\n",
              "      <td>Недвижимость</td>\n",
              "      <td>800.0</td>\n",
              "      <td>Калининградская область</td>\n",
              "      <td>Калининград</td>\n",
              "      <td>2019-10-09 23:59:26.744680</td>\n",
              "      <td>0.0</td>\n",
              "    </tr>\n",
              "    <tr>\n",
              "      <th>984486</th>\n",
              "      <td>Репетитор по математике, подготовка к огэ</td>\n",
              "      <td>Основное и самое любимое направление моей рабо...</td>\n",
              "      <td>Предложение услуг</td>\n",
              "      <td>Услуги</td>\n",
              "      <td>1300.0</td>\n",
              "      <td>Московская область</td>\n",
              "      <td>Балашиха</td>\n",
              "      <td>2019-10-09 23:59:41.342367</td>\n",
              "      <td>1.0</td>\n",
              "    </tr>\n",
              "    <tr>\n",
              "      <th>984487</th>\n",
              "      <td>NaN</td>\n",
              "      <td>NaN</td>\n",
              "      <td>NaN</td>\n",
              "      <td>NaN</td>\n",
              "      <td>NaN</td>\n",
              "      <td>NaN</td>\n",
              "      <td>NaN</td>\n",
              "      <td>NaN</td>\n",
              "      <td>NaN</td>\n",
              "    </tr>\n",
              "  </tbody>\n",
              "</table>\n",
              "</div>\n",
              "      <button class=\"colab-df-convert\" onclick=\"convertToInteractive('df-a48e635b-893c-4d36-b78f-4381db1a227e')\"\n",
              "              title=\"Convert this dataframe to an interactive table.\"\n",
              "              style=\"display:none;\">\n",
              "        \n",
              "  <svg xmlns=\"http://www.w3.org/2000/svg\" height=\"24px\"viewBox=\"0 0 24 24\"\n",
              "       width=\"24px\">\n",
              "    <path d=\"M0 0h24v24H0V0z\" fill=\"none\"/>\n",
              "    <path d=\"M18.56 5.44l.94 2.06.94-2.06 2.06-.94-2.06-.94-.94-2.06-.94 2.06-2.06.94zm-11 1L8.5 8.5l.94-2.06 2.06-.94-2.06-.94L8.5 2.5l-.94 2.06-2.06.94zm10 10l.94 2.06.94-2.06 2.06-.94-2.06-.94-.94-2.06-.94 2.06-2.06.94z\"/><path d=\"M17.41 7.96l-1.37-1.37c-.4-.4-.92-.59-1.43-.59-.52 0-1.04.2-1.43.59L10.3 9.45l-7.72 7.72c-.78.78-.78 2.05 0 2.83L4 21.41c.39.39.9.59 1.41.59.51 0 1.02-.2 1.41-.59l7.78-7.78 2.81-2.81c.8-.78.8-2.07 0-2.86zM5.41 20L4 18.59l7.72-7.72 1.47 1.35L5.41 20z\"/>\n",
              "  </svg>\n",
              "      </button>\n",
              "      \n",
              "  <style>\n",
              "    .colab-df-container {\n",
              "      display:flex;\n",
              "      flex-wrap:wrap;\n",
              "      gap: 12px;\n",
              "    }\n",
              "\n",
              "    .colab-df-convert {\n",
              "      background-color: #E8F0FE;\n",
              "      border: none;\n",
              "      border-radius: 50%;\n",
              "      cursor: pointer;\n",
              "      display: none;\n",
              "      fill: #1967D2;\n",
              "      height: 32px;\n",
              "      padding: 0 0 0 0;\n",
              "      width: 32px;\n",
              "    }\n",
              "\n",
              "    .colab-df-convert:hover {\n",
              "      background-color: #E2EBFA;\n",
              "      box-shadow: 0px 1px 2px rgba(60, 64, 67, 0.3), 0px 1px 3px 1px rgba(60, 64, 67, 0.15);\n",
              "      fill: #174EA6;\n",
              "    }\n",
              "\n",
              "    [theme=dark] .colab-df-convert {\n",
              "      background-color: #3B4455;\n",
              "      fill: #D2E3FC;\n",
              "    }\n",
              "\n",
              "    [theme=dark] .colab-df-convert:hover {\n",
              "      background-color: #434B5C;\n",
              "      box-shadow: 0px 1px 3px 1px rgba(0, 0, 0, 0.15);\n",
              "      filter: drop-shadow(0px 1px 2px rgba(0, 0, 0, 0.3));\n",
              "      fill: #FFFFFF;\n",
              "    }\n",
              "  </style>\n",
              "\n",
              "      <script>\n",
              "        const buttonEl =\n",
              "          document.querySelector('#df-a48e635b-893c-4d36-b78f-4381db1a227e button.colab-df-convert');\n",
              "        buttonEl.style.display =\n",
              "          google.colab.kernel.accessAllowed ? 'block' : 'none';\n",
              "\n",
              "        async function convertToInteractive(key) {\n",
              "          const element = document.querySelector('#df-a48e635b-893c-4d36-b78f-4381db1a227e');\n",
              "          const dataTable =\n",
              "            await google.colab.kernel.invokeFunction('convertToInteractive',\n",
              "                                                     [key], {});\n",
              "          if (!dataTable) return;\n",
              "\n",
              "          const docLinkHtml = 'Like what you see? Visit the ' +\n",
              "            '<a target=\"_blank\" href=https://colab.research.google.com/notebooks/data_table.ipynb>data table notebook</a>'\n",
              "            + ' to learn more about interactive tables.';\n",
              "          element.innerHTML = '';\n",
              "          dataTable['output_type'] = 'display_data';\n",
              "          await google.colab.output.renderOutput(dataTable, element);\n",
              "          const docLink = document.createElement('div');\n",
              "          docLink.innerHTML = docLinkHtml;\n",
              "          element.appendChild(docLink);\n",
              "        }\n",
              "      </script>\n",
              "    </div>\n",
              "  </div>\n",
              "  "
            ]
          },
          "metadata": {},
          "execution_count": 8
        }
      ],
      "source": [
        "data.tail()"
      ]
    },
    {
      "cell_type": "markdown",
      "metadata": {
        "id": "3orY8n8WEdhR"
      },
      "source": [
        "Переименуем колонку traim.csv"
      ]
    },
    {
      "cell_type": "code",
      "execution_count": 9,
      "metadata": {
        "id": "2IUkppdZ90MD"
      },
      "outputs": [],
      "source": [
        "data = data.rename(columns = {'train.csv':'title'})"
      ]
    },
    {
      "cell_type": "markdown",
      "metadata": {
        "id": "LJGOfmsEVO_V"
      },
      "source": [
        "Удалим строку с пропусками"
      ]
    },
    {
      "cell_type": "code",
      "execution_count": 10,
      "metadata": {
        "id": "zPF_wG_5GHKx"
      },
      "outputs": [],
      "source": [
        "data = data.drop(984487, axis = 0)"
      ]
    },
    {
      "cell_type": "markdown",
      "metadata": {
        "id": "g3ROolKeVaZ2"
      },
      "source": [
        "Изменим тип данных в столбце `datetime_submitted`"
      ]
    },
    {
      "cell_type": "code",
      "execution_count": 11,
      "metadata": {
        "id": "3--raXkeNC23"
      },
      "outputs": [],
      "source": [
        "data['datetime_submitted'] = pd.to_datetime(data['datetime_submitted'])"
      ]
    },
    {
      "cell_type": "markdown",
      "metadata": {
        "id": "nHG3lAUuWSfL"
      },
      "source": [
        "Выведем основную информацию о датасете, посмотрим в каких колонках у нас есть пропуски"
      ]
    },
    {
      "cell_type": "code",
      "execution_count": 12,
      "metadata": {
        "id": "WQQFO6gmVYR6",
        "colab": {
          "base_uri": "https://localhost:8080/"
        },
        "outputId": "fbbeddce-d5d9-49fc-eb31-da90dfb47291"
      },
      "outputs": [
        {
          "output_type": "stream",
          "name": "stdout",
          "text": [
            "<class 'pandas.core.frame.DataFrame'>\n",
            "Int64Index: 984487 entries, 0 to 984486\n",
            "Data columns (total 9 columns):\n",
            " #   Column              Non-Null Count   Dtype         \n",
            "---  ------              --------------   -----         \n",
            " 0   title               984487 non-null  object        \n",
            " 1   description         984487 non-null  object        \n",
            " 2   subcategory         984487 non-null  object        \n",
            " 3   category            984487 non-null  object        \n",
            " 4   price               926439 non-null  float64       \n",
            " 5   region              984487 non-null  object        \n",
            " 6   city                984487 non-null  object        \n",
            " 7   datetime_submitted  984487 non-null  datetime64[ns]\n",
            " 8   is_bad              984487 non-null  float64       \n",
            "dtypes: datetime64[ns](1), float64(2), object(6)\n",
            "memory usage: 75.1+ MB\n"
          ]
        }
      ],
      "source": [
        "data.info()"
      ]
    },
    {
      "cell_type": "code",
      "execution_count": 13,
      "metadata": {
        "id": "6hlVCuU_lMJK",
        "colab": {
          "base_uri": "https://localhost:8080/"
        },
        "outputId": "1116612c-f634-4bb6-fff0-f0a97d3df9a4"
      },
      "outputs": [
        {
          "output_type": "execute_result",
          "data": {
            "text/plain": [
              "title                     0\n",
              "description               0\n",
              "subcategory               0\n",
              "category                  0\n",
              "price                 58048\n",
              "region                    0\n",
              "city                      0\n",
              "datetime_submitted        0\n",
              "is_bad                    0\n",
              "dtype: int64"
            ]
          },
          "metadata": {},
          "execution_count": 13
        }
      ],
      "source": [
        "data.isna().sum()"
      ]
    },
    {
      "cell_type": "code",
      "execution_count": 14,
      "metadata": {
        "id": "NgviTnnYHCvI",
        "colab": {
          "base_uri": "https://localhost:8080/",
          "height": 424
        },
        "outputId": "00896d1f-1092-4c89-8e42-9a6a8b020bc2"
      },
      "outputs": [
        {
          "output_type": "execute_result",
          "data": {
            "text/plain": [
              "                                                    title  \\\n",
              "22        Монтаж отопления гвс. хвс. установка сантехники   \n",
              "47      Обучение.Удостоворение.Электробезопасность.охрана   \n",
              "113      Автомобиль в разборе: Citroen Berlingo 2002-2008   \n",
              "125                                  Квартира в рассрочку   \n",
              "129                                                Колёса   \n",
              "...                                                   ...   \n",
              "984404                Малыши из подвала очень хотят домой   \n",
              "984424                                 Наращивание ресниц   \n",
              "984438                        Отдам котёнка в добрые руки   \n",
              "984439                                Обмен монет и купюр   \n",
              "984449                             Отдам бесплатно собаку   \n",
              "\n",
              "                                              description  \\\n",
              "22      Несколько вариантов разводки системы отопления...   \n",
              "47      5.       Аттестация сотрудников:  рабочего пер...   \n",
              "113     В наличии Автомобиль в разборе:/\\n/\\nCitroen B...   \n",
              "125     Есть возможность приобретения квартиры на терр...   \n",
              "129     Продуется колеса с дисками штампованными , плю...   \n",
              "...                                                   ...   \n",
              "984404  ❗❗❗СРОЧНО❗❗❗МАЛЫШИ ИЗ ПОДВАЛА ИЩУТ ДОМ❗/\\n(пос...   \n",
              "984424  К вашим услугам предоставляю наращивание ресни...   \n",
              "984438  Отдадим котёнка (кошечку) Элли в добрые руки! ...   \n",
              "984439  То что есть: 40 рублей 6000г: 55 лет Победы +4...   \n",
              "984449  Отдам собаку, девочка, 7 лет. Она домашняя, во...   \n",
              "\n",
              "                  subcategory       category  price                   region  \\\n",
              "22          Предложение услуг         Услуги    NaN       Смоленская область   \n",
              "47          Предложение услуг         Услуги    NaN                   Россия   \n",
              "113     Запчасти и аксессуары      Транспорт    NaN                   Россия   \n",
              "125         Предложение услуг         Услуги    NaN      Магаданская область   \n",
              "129     Запчасти и аксессуары      Транспорт    NaN     Чеченская Республика   \n",
              "...                       ...            ...    ...                      ...   \n",
              "984404                 Собаки       Животные    NaN  Калининградская область   \n",
              "984424      Предложение услуг         Услуги    NaN      Ставропольский край   \n",
              "984438                  Кошки       Животные    NaN                   Россия   \n",
              "984439     Коллекционирование  Хобби и отдых    NaN       Ивановская область   \n",
              "984449                 Собаки       Животные    NaN       Ростовская область   \n",
              "\n",
              "               city         datetime_submitted  is_bad  \n",
              "22           Вязьма 2019-06-01 00:06:52.358883     0.0  \n",
              "47           Москва 2019-06-01 00:13:49.892272     0.0  \n",
              "113          Москва 2019-06-01 00:39:31.479077     0.0  \n",
              "125         Магадан 2019-06-01 00:44:13.808647     1.0  \n",
              "129         Грозный 2019-06-01 00:45:39.741722     1.0  \n",
              "...             ...                        ...     ...  \n",
              "984404  Калининград 2019-10-09 23:14:49.807021     1.0  \n",
              "984424   Ставрополь 2019-10-09 23:27:39.434247     1.0  \n",
              "984438       Москва 2019-10-09 23:33:33.467176     1.0  \n",
              "984439      Иваново 2019-10-09 23:33:41.475859     0.0  \n",
              "984449     Таганрог 2019-10-09 23:37:46.741332     0.0  \n",
              "\n",
              "[58048 rows x 9 columns]"
            ],
            "text/html": [
              "\n",
              "  <div id=\"df-bb59ccc7-bd9c-4a9e-8d5e-0cca86ba2088\">\n",
              "    <div class=\"colab-df-container\">\n",
              "      <div>\n",
              "<style scoped>\n",
              "    .dataframe tbody tr th:only-of-type {\n",
              "        vertical-align: middle;\n",
              "    }\n",
              "\n",
              "    .dataframe tbody tr th {\n",
              "        vertical-align: top;\n",
              "    }\n",
              "\n",
              "    .dataframe thead th {\n",
              "        text-align: right;\n",
              "    }\n",
              "</style>\n",
              "<table border=\"1\" class=\"dataframe\">\n",
              "  <thead>\n",
              "    <tr style=\"text-align: right;\">\n",
              "      <th></th>\n",
              "      <th>title</th>\n",
              "      <th>description</th>\n",
              "      <th>subcategory</th>\n",
              "      <th>category</th>\n",
              "      <th>price</th>\n",
              "      <th>region</th>\n",
              "      <th>city</th>\n",
              "      <th>datetime_submitted</th>\n",
              "      <th>is_bad</th>\n",
              "    </tr>\n",
              "  </thead>\n",
              "  <tbody>\n",
              "    <tr>\n",
              "      <th>22</th>\n",
              "      <td>Монтаж отопления гвс. хвс. установка сантехники</td>\n",
              "      <td>Несколько вариантов разводки системы отопления...</td>\n",
              "      <td>Предложение услуг</td>\n",
              "      <td>Услуги</td>\n",
              "      <td>NaN</td>\n",
              "      <td>Смоленская область</td>\n",
              "      <td>Вязьма</td>\n",
              "      <td>2019-06-01 00:06:52.358883</td>\n",
              "      <td>0.0</td>\n",
              "    </tr>\n",
              "    <tr>\n",
              "      <th>47</th>\n",
              "      <td>Обучение.Удостоворение.Электробезопасность.охрана</td>\n",
              "      <td>5.       Аттестация сотрудников:  рабочего пер...</td>\n",
              "      <td>Предложение услуг</td>\n",
              "      <td>Услуги</td>\n",
              "      <td>NaN</td>\n",
              "      <td>Россия</td>\n",
              "      <td>Москва</td>\n",
              "      <td>2019-06-01 00:13:49.892272</td>\n",
              "      <td>0.0</td>\n",
              "    </tr>\n",
              "    <tr>\n",
              "      <th>113</th>\n",
              "      <td>Автомобиль в разборе: Citroen Berlingo 2002-2008</td>\n",
              "      <td>В наличии Автомобиль в разборе:/\\n/\\nCitroen B...</td>\n",
              "      <td>Запчасти и аксессуары</td>\n",
              "      <td>Транспорт</td>\n",
              "      <td>NaN</td>\n",
              "      <td>Россия</td>\n",
              "      <td>Москва</td>\n",
              "      <td>2019-06-01 00:39:31.479077</td>\n",
              "      <td>0.0</td>\n",
              "    </tr>\n",
              "    <tr>\n",
              "      <th>125</th>\n",
              "      <td>Квартира в рассрочку</td>\n",
              "      <td>Есть возможность приобретения квартиры на терр...</td>\n",
              "      <td>Предложение услуг</td>\n",
              "      <td>Услуги</td>\n",
              "      <td>NaN</td>\n",
              "      <td>Магаданская область</td>\n",
              "      <td>Магадан</td>\n",
              "      <td>2019-06-01 00:44:13.808647</td>\n",
              "      <td>1.0</td>\n",
              "    </tr>\n",
              "    <tr>\n",
              "      <th>129</th>\n",
              "      <td>Колёса</td>\n",
              "      <td>Продуется колеса с дисками штампованными , плю...</td>\n",
              "      <td>Запчасти и аксессуары</td>\n",
              "      <td>Транспорт</td>\n",
              "      <td>NaN</td>\n",
              "      <td>Чеченская Республика</td>\n",
              "      <td>Грозный</td>\n",
              "      <td>2019-06-01 00:45:39.741722</td>\n",
              "      <td>1.0</td>\n",
              "    </tr>\n",
              "    <tr>\n",
              "      <th>...</th>\n",
              "      <td>...</td>\n",
              "      <td>...</td>\n",
              "      <td>...</td>\n",
              "      <td>...</td>\n",
              "      <td>...</td>\n",
              "      <td>...</td>\n",
              "      <td>...</td>\n",
              "      <td>...</td>\n",
              "      <td>...</td>\n",
              "    </tr>\n",
              "    <tr>\n",
              "      <th>984404</th>\n",
              "      <td>Малыши из подвала очень хотят домой</td>\n",
              "      <td>❗❗❗СРОЧНО❗❗❗МАЛЫШИ ИЗ ПОДВАЛА ИЩУТ ДОМ❗/\\n(пос...</td>\n",
              "      <td>Собаки</td>\n",
              "      <td>Животные</td>\n",
              "      <td>NaN</td>\n",
              "      <td>Калининградская область</td>\n",
              "      <td>Калининград</td>\n",
              "      <td>2019-10-09 23:14:49.807021</td>\n",
              "      <td>1.0</td>\n",
              "    </tr>\n",
              "    <tr>\n",
              "      <th>984424</th>\n",
              "      <td>Наращивание ресниц</td>\n",
              "      <td>К вашим услугам предоставляю наращивание ресни...</td>\n",
              "      <td>Предложение услуг</td>\n",
              "      <td>Услуги</td>\n",
              "      <td>NaN</td>\n",
              "      <td>Ставропольский край</td>\n",
              "      <td>Ставрополь</td>\n",
              "      <td>2019-10-09 23:27:39.434247</td>\n",
              "      <td>1.0</td>\n",
              "    </tr>\n",
              "    <tr>\n",
              "      <th>984438</th>\n",
              "      <td>Отдам котёнка в добрые руки</td>\n",
              "      <td>Отдадим котёнка (кошечку) Элли в добрые руки! ...</td>\n",
              "      <td>Кошки</td>\n",
              "      <td>Животные</td>\n",
              "      <td>NaN</td>\n",
              "      <td>Россия</td>\n",
              "      <td>Москва</td>\n",
              "      <td>2019-10-09 23:33:33.467176</td>\n",
              "      <td>1.0</td>\n",
              "    </tr>\n",
              "    <tr>\n",
              "      <th>984439</th>\n",
              "      <td>Обмен монет и купюр</td>\n",
              "      <td>То что есть: 40 рублей 6000г: 55 лет Победы +4...</td>\n",
              "      <td>Коллекционирование</td>\n",
              "      <td>Хобби и отдых</td>\n",
              "      <td>NaN</td>\n",
              "      <td>Ивановская область</td>\n",
              "      <td>Иваново</td>\n",
              "      <td>2019-10-09 23:33:41.475859</td>\n",
              "      <td>0.0</td>\n",
              "    </tr>\n",
              "    <tr>\n",
              "      <th>984449</th>\n",
              "      <td>Отдам бесплатно собаку</td>\n",
              "      <td>Отдам собаку, девочка, 7 лет. Она домашняя, во...</td>\n",
              "      <td>Собаки</td>\n",
              "      <td>Животные</td>\n",
              "      <td>NaN</td>\n",
              "      <td>Ростовская область</td>\n",
              "      <td>Таганрог</td>\n",
              "      <td>2019-10-09 23:37:46.741332</td>\n",
              "      <td>0.0</td>\n",
              "    </tr>\n",
              "  </tbody>\n",
              "</table>\n",
              "<p>58048 rows × 9 columns</p>\n",
              "</div>\n",
              "      <button class=\"colab-df-convert\" onclick=\"convertToInteractive('df-bb59ccc7-bd9c-4a9e-8d5e-0cca86ba2088')\"\n",
              "              title=\"Convert this dataframe to an interactive table.\"\n",
              "              style=\"display:none;\">\n",
              "        \n",
              "  <svg xmlns=\"http://www.w3.org/2000/svg\" height=\"24px\"viewBox=\"0 0 24 24\"\n",
              "       width=\"24px\">\n",
              "    <path d=\"M0 0h24v24H0V0z\" fill=\"none\"/>\n",
              "    <path d=\"M18.56 5.44l.94 2.06.94-2.06 2.06-.94-2.06-.94-.94-2.06-.94 2.06-2.06.94zm-11 1L8.5 8.5l.94-2.06 2.06-.94-2.06-.94L8.5 2.5l-.94 2.06-2.06.94zm10 10l.94 2.06.94-2.06 2.06-.94-2.06-.94-.94-2.06-.94 2.06-2.06.94z\"/><path d=\"M17.41 7.96l-1.37-1.37c-.4-.4-.92-.59-1.43-.59-.52 0-1.04.2-1.43.59L10.3 9.45l-7.72 7.72c-.78.78-.78 2.05 0 2.83L4 21.41c.39.39.9.59 1.41.59.51 0 1.02-.2 1.41-.59l7.78-7.78 2.81-2.81c.8-.78.8-2.07 0-2.86zM5.41 20L4 18.59l7.72-7.72 1.47 1.35L5.41 20z\"/>\n",
              "  </svg>\n",
              "      </button>\n",
              "      \n",
              "  <style>\n",
              "    .colab-df-container {\n",
              "      display:flex;\n",
              "      flex-wrap:wrap;\n",
              "      gap: 12px;\n",
              "    }\n",
              "\n",
              "    .colab-df-convert {\n",
              "      background-color: #E8F0FE;\n",
              "      border: none;\n",
              "      border-radius: 50%;\n",
              "      cursor: pointer;\n",
              "      display: none;\n",
              "      fill: #1967D2;\n",
              "      height: 32px;\n",
              "      padding: 0 0 0 0;\n",
              "      width: 32px;\n",
              "    }\n",
              "\n",
              "    .colab-df-convert:hover {\n",
              "      background-color: #E2EBFA;\n",
              "      box-shadow: 0px 1px 2px rgba(60, 64, 67, 0.3), 0px 1px 3px 1px rgba(60, 64, 67, 0.15);\n",
              "      fill: #174EA6;\n",
              "    }\n",
              "\n",
              "    [theme=dark] .colab-df-convert {\n",
              "      background-color: #3B4455;\n",
              "      fill: #D2E3FC;\n",
              "    }\n",
              "\n",
              "    [theme=dark] .colab-df-convert:hover {\n",
              "      background-color: #434B5C;\n",
              "      box-shadow: 0px 1px 3px 1px rgba(0, 0, 0, 0.15);\n",
              "      filter: drop-shadow(0px 1px 2px rgba(0, 0, 0, 0.3));\n",
              "      fill: #FFFFFF;\n",
              "    }\n",
              "  </style>\n",
              "\n",
              "      <script>\n",
              "        const buttonEl =\n",
              "          document.querySelector('#df-bb59ccc7-bd9c-4a9e-8d5e-0cca86ba2088 button.colab-df-convert');\n",
              "        buttonEl.style.display =\n",
              "          google.colab.kernel.accessAllowed ? 'block' : 'none';\n",
              "\n",
              "        async function convertToInteractive(key) {\n",
              "          const element = document.querySelector('#df-bb59ccc7-bd9c-4a9e-8d5e-0cca86ba2088');\n",
              "          const dataTable =\n",
              "            await google.colab.kernel.invokeFunction('convertToInteractive',\n",
              "                                                     [key], {});\n",
              "          if (!dataTable) return;\n",
              "\n",
              "          const docLinkHtml = 'Like what you see? Visit the ' +\n",
              "            '<a target=\"_blank\" href=https://colab.research.google.com/notebooks/data_table.ipynb>data table notebook</a>'\n",
              "            + ' to learn more about interactive tables.';\n",
              "          element.innerHTML = '';\n",
              "          dataTable['output_type'] = 'display_data';\n",
              "          await google.colab.output.renderOutput(dataTable, element);\n",
              "          const docLink = document.createElement('div');\n",
              "          docLink.innerHTML = docLinkHtml;\n",
              "          element.appendChild(docLink);\n",
              "        }\n",
              "      </script>\n",
              "    </div>\n",
              "  </div>\n",
              "  "
            ]
          },
          "metadata": {},
          "execution_count": 14
        }
      ],
      "source": [
        "data[data['price'].isna()]"
      ]
    },
    {
      "cell_type": "markdown",
      "metadata": {
        "id": "d4UDVI8wWlbo"
      },
      "source": [
        "Пропуски в колонке `price` не имеет смысла трогать, а вот по столбцу `region` есть вопросы, например регион Россия, в состав которой входит только Москва и Санкт-Петербург, и отдельный регион Москва и отдельный Санкт_петербург, поэтому принято решения устанить этот неявный дубликат и приравнять все регионы, где указана Россия к столбцу `city`"
      ]
    },
    {
      "cell_type": "code",
      "execution_count": 15,
      "metadata": {
        "id": "CZ2NJdugO7Fl",
        "colab": {
          "base_uri": "https://localhost:8080/"
        },
        "outputId": "c010b6e1-5ee1-43f5-82f8-91c754b2c6a2"
      },
      "outputs": [
        {
          "output_type": "execute_result",
          "data": {
            "text/plain": [
              "array(['Москва', 'Санкт-Петербург'], dtype=object)"
            ]
          },
          "metadata": {},
          "execution_count": 15
        }
      ],
      "source": [
        "data[data['region'] == 'Россия']['city'].unique()"
      ]
    },
    {
      "cell_type": "code",
      "execution_count": 16,
      "metadata": {
        "id": "4yxWUnnFP6Yt"
      },
      "outputs": [],
      "source": [
        "data.loc[(data['region'] == 'Россия', 'region')] = data['city']"
      ]
    },
    {
      "cell_type": "markdown",
      "metadata": {
        "id": "oyUQ0fcygNjY"
      },
      "source": [
        "Проверим"
      ]
    },
    {
      "cell_type": "code",
      "execution_count": 17,
      "metadata": {
        "id": "HWBYR-3SDj1X",
        "colab": {
          "base_uri": "https://localhost:8080/"
        },
        "outputId": "6049e28d-0dcb-47d1-f731-e1f0ece2ac74"
      },
      "outputs": [
        {
          "output_type": "execute_result",
          "data": {
            "text/plain": [
              "Москва                 159557\n",
              "Санкт-Петербург         83130\n",
              "Краснодарский край      52960\n",
              "Московская область      50261\n",
              "Татарстан               33361\n",
              "                        ...  \n",
              "Магаданская область       503\n",
              "Тыва                      190\n",
              "Сахалинская область       168\n",
              "Ненецкий АО                60\n",
              "Чукотский АО               27\n",
              "Name: region, Length: 84, dtype: int64"
            ]
          },
          "metadata": {},
          "execution_count": 17
        }
      ],
      "source": [
        "data['region'].value_counts()"
      ]
    },
    {
      "cell_type": "markdown",
      "metadata": {
        "id": "KTg74dUYgRAS"
      },
      "source": [
        "Посмотрим на распределение объявлений по категориям, самой многочисленной категорией является \"Транспорт\", а самой маленькой \"Для бизнеса\""
      ]
    },
    {
      "cell_type": "code",
      "execution_count": 18,
      "metadata": {
        "id": "DtGfbW35-n1-",
        "colab": {
          "base_uri": "https://localhost:8080/"
        },
        "outputId": "ca5ed3f7-1a35-46c1-c8e2-161e3d0c1a3a"
      },
      "outputs": [
        {
          "output_type": "execute_result",
          "data": {
            "text/plain": [
              "Транспорт              209221\n",
              "Личные вещи            199655\n",
              "Бытовая электроника    152132\n",
              "Для дома и дачи        132120\n",
              "Недвижимость           100796\n",
              "Хобби и отдых           64295\n",
              "Услуги                  56681\n",
              "Животные                31421\n",
              "Работа                  26208\n",
              "Для бизнеса             11958\n",
              "Name: category, dtype: int64"
            ]
          },
          "metadata": {},
          "execution_count": 18
        }
      ],
      "source": [
        "data['category'].value_counts()"
      ]
    },
    {
      "cell_type": "code",
      "execution_count": 19,
      "metadata": {
        "id": "z4sMTR4TCl8Y",
        "colab": {
          "base_uri": "https://localhost:8080/",
          "height": 282
        },
        "outputId": "7c6b9c80-066e-4497-b6ac-b4aa582d0032"
      },
      "outputs": [
        {
          "output_type": "execute_result",
          "data": {
            "text/plain": [
              "<matplotlib.axes._subplots.AxesSubplot at 0x7fc646787490>"
            ]
          },
          "metadata": {},
          "execution_count": 19
        },
        {
          "output_type": "display_data",
          "data": {
            "text/plain": [
              "<Figure size 432x288 with 1 Axes>"
            ],
            "image/png": "[encoded data removed]"
          },
          "metadata": {
            "needs_background": "light"
          }
        }
      ],
      "source": [
        "data['category'].value_counts().plot(kind = 'barh')"
      ]
    },
    {
      "cell_type": "markdown",
      "metadata": {
        "id": "isTwAm0egxMw"
      },
      "source": [
        "Посмотрим также на колонку `is_bad`, эта колонка показывает нам, что в объявлении указан номер телефона, что плохо для работы сайта, 25% объявлений содержат номер телефона, но нужно это проверить. Самой многочисленной категорией, где указывают номер телефона у нас в категории \"Транспорт\""
      ]
    },
    {
      "cell_type": "code",
      "execution_count": 20,
      "metadata": {
        "id": "k2q5ZcCZ0FaR",
        "colab": {
          "base_uri": "https://localhost:8080/"
        },
        "outputId": "870376ba-25a6-4869-f3a3-9f8f7e373c97"
      },
      "outputs": [
        {
          "output_type": "execute_result",
          "data": {
            "text/plain": [
              "0.0    746221\n",
              "1.0    238266\n",
              "Name: is_bad, dtype: int64"
            ]
          },
          "metadata": {},
          "execution_count": 20
        }
      ],
      "source": [
        "data['is_bad'].value_counts()"
      ]
    },
    {
      "cell_type": "code",
      "execution_count": 21,
      "metadata": {
        "id": "k0V9xCMl-xWo",
        "colab": {
          "base_uri": "https://localhost:8080/"
        },
        "outputId": "fb1ca36e-07d7-41dd-ac62-889b8249bf5e"
      },
      "outputs": [
        {
          "output_type": "execute_result",
          "data": {
            "text/plain": [
              "0.0    0.75798\n",
              "1.0    0.24202\n",
              "Name: is_bad, dtype: float64"
            ]
          },
          "metadata": {},
          "execution_count": 21
        }
      ],
      "source": [
        "data['is_bad'].value_counts(normalize = True)"
      ]
    },
    {
      "cell_type": "code",
      "execution_count": 22,
      "metadata": {
        "id": "l7o22b2OAAA7",
        "colab": {
          "base_uri": "https://localhost:8080/"
        },
        "outputId": "c4b18d23-723c-42ce-f338-d6751ac15152"
      },
      "outputs": [
        {
          "output_type": "execute_result",
          "data": {
            "text/plain": [
              "category             is_bad\n",
              "Бытовая электроника  0.0       131122\n",
              "                     1.0        21010\n",
              "Для бизнеса          0.0        10209\n",
              "                     1.0         1749\n",
              "Для дома и дачи      0.0       102033\n",
              "                     1.0        30087\n",
              "Животные             1.0        17159\n",
              "                     0.0        14262\n",
              "Личные вещи          0.0       172146\n",
              "                     1.0        27509\n",
              "Недвижимость         0.0        64102\n",
              "                     1.0        36694\n",
              "Работа               0.0        15868\n",
              "                     1.0        10340\n",
              "Транспорт            0.0       154408\n",
              "                     1.0        54813\n",
              "Услуги               1.0        28430\n",
              "                     0.0        28251\n",
              "Хобби и отдых        0.0        53820\n",
              "                     1.0        10475\n",
              "Name: is_bad, dtype: int64"
            ]
          },
          "metadata": {},
          "execution_count": 22
        }
      ],
      "source": [
        "data.groupby('category')['is_bad'].value_counts()"
      ]
    },
    {
      "cell_type": "markdown",
      "source": [
        "Проверим колонку `is_bad` при помощи регулярных выражений. Применим метод `contains`, который выдаст булевые значения. Создадим новые столбцы для каждого регулярного выражения"
      ],
      "metadata": {
        "id": "aCe4Psiv-SXz"
      }
    },
    {
      "cell_type": "code",
      "execution_count": 23,
      "metadata": {
        "id": "JvLOQY2X4Lp2"
      },
      "outputs": [],
      "source": [
        "import re"
      ]
    },
    {
      "cell_type": "markdown",
      "source": [
        "Поск будем осуществлять по строкам столбца `description`"
      ],
      "metadata": {
        "id": "IFC2OBU_BAg_"
      }
    },
    {
      "cell_type": "code",
      "source": [
        "data['description']"
      ],
      "metadata": {
        "id": "IbSI1JtAT--6",
        "colab": {
          "base_uri": "https://localhost:8080/"
        },
        "outputId": "c1618a3e-e089-475a-9db7-ee34a6ec121e"
      },
      "execution_count": 24,
      "outputs": [
        {
          "output_type": "execute_result",
          "data": {
            "text/plain": [
              "0         Продаем диван-кровать. Удобный механизм - евро...\n",
              "1         Кожух рулевой колонки DAF XF 94 (60066004)/\\n ...\n",
              "2         ! Буст аккаунтов с ммр выше 1000ммр не беру ! ...\n",
              "3         Продам телевизор . Диагональ 450.наличие входа...\n",
              "4         Открытки-конверты ручной работы/\\nВыполнены в ...\n",
              "                                ...                        \n",
              "984482    +79780979761/\\nДенис/\\nширину обода и вылет на...\n",
              "984483                           Зарядка и под в комплекте.\n",
              "984484    Белый стул Ikea /\\nСостояние требует ремонта: ...\n",
              "984485    Бронирование с октября по январь 1010 г./\\n   ...\n",
              "984486    Основное и самое любимое направление моей рабо...\n",
              "Name: description, Length: 984487, dtype: object"
            ]
          },
          "metadata": {},
          "execution_count": 24
        }
      ]
    },
    {
      "cell_type": "markdown",
      "source": [
        "После каждого применения регулярного выражения, я проверяю количество найденных совпадений"
      ],
      "metadata": {
        "id": "B2CGjTIjBLIy"
      }
    },
    {
      "cell_type": "code",
      "execution_count": 25,
      "metadata": {
        "id": "FxbMnnM5Clga",
        "colab": {
          "base_uri": "https://localhost:8080/"
        },
        "outputId": "c55e4aea-0151-4459-83c9-1595560517f7"
      },
      "outputs": [
        {
          "output_type": "stream",
          "name": "stderr",
          "text": [
            "<ipython-input-25-8b90d72a16cb>:1: UserWarning: This pattern has match groups. To actually get the groups, use str.extract.\n",
            "  data['reg1'] = data['description'].str.contains(r'(\\+7|8\\D\\d\\D\\d\\D\\d\\D\\d\\D\\d\\D\\d\\D\\d\\D\\d\\D\\d\\D\\d\\D)')\n"
          ]
        }
      ],
      "source": [
        "data['reg1'] = data['description'].str.contains(r'(\\+7|8\\D\\d\\D\\d\\D\\d\\D\\d\\D\\d\\D\\d\\D\\d\\D\\d\\D\\d\\D\\d\\D)')"
      ]
    },
    {
      "cell_type": "code",
      "execution_count": 26,
      "metadata": {
        "colab": {
          "base_uri": "https://localhost:8080/"
        },
        "id": "bmNGrnBOwGeq",
        "outputId": "3aa66bfa-6b2d-4a03-9d2e-3e88c0044373"
      },
      "outputs": [
        {
          "output_type": "execute_result",
          "data": {
            "text/plain": [
              "False    956325\n",
              "True      28162\n",
              "Name: reg1, dtype: int64"
            ]
          },
          "metadata": {},
          "execution_count": 26
        }
      ],
      "source": [
        "data['reg1'].value_counts()"
      ]
    },
    {
      "cell_type": "code",
      "execution_count": 27,
      "metadata": {
        "id": "JxoPlH4E4ihg",
        "colab": {
          "base_uri": "https://localhost:8080/"
        },
        "outputId": "f4342e73-71be-413a-806b-8a3919b0a0c5"
      },
      "outputs": [
        {
          "output_type": "stream",
          "name": "stderr",
          "text": [
            "<ipython-input-27-d615dc3f04c5>:1: UserWarning: This pattern has match groups. To actually get the groups, use str.extract.\n",
            "  data['regex2'] = data['description'].str.contains(r'(\\+7\\D\\d{3}\\D\\d{3}(?:-\\d{2})(?:-\\d{2}))')\n"
          ]
        }
      ],
      "source": [
        "data['regex2'] = data['description'].str.contains(r'(\\+7\\D\\d{3}\\D\\d{3}(?:-\\d{2})(?:-\\d{2}))')"
      ]
    },
    {
      "cell_type": "code",
      "execution_count": 28,
      "metadata": {
        "colab": {
          "base_uri": "https://localhost:8080/"
        },
        "id": "FahOLX3bwNgP",
        "outputId": "2a313842-df58-4433-f99e-1948f8200436"
      },
      "outputs": [
        {
          "output_type": "execute_result",
          "data": {
            "text/plain": [
              "False    981002\n",
              "True       3485\n",
              "Name: regex2, dtype: int64"
            ]
          },
          "metadata": {},
          "execution_count": 28
        }
      ],
      "source": [
        "data['regex2'].value_counts()"
      ]
    },
    {
      "cell_type": "code",
      "execution_count": 29,
      "metadata": {
        "id": "YmLxzA61z-SJ",
        "colab": {
          "base_uri": "https://localhost:8080/"
        },
        "outputId": "fca5635e-ee32-45db-a7d5-9d9d0c49b7bf"
      },
      "outputs": [
        {
          "output_type": "stream",
          "name": "stderr",
          "text": [
            "<ipython-input-29-92845fa14e23>:1: UserWarning: This pattern has match groups. To actually get the groups, use str.extract.\n",
            "  data['regex3'] = data['description'].str.contains(r'(\\d{10})')\n"
          ]
        }
      ],
      "source": [
        "data['regex3'] = data['description'].str.contains(r'(\\d{10})') "
      ]
    },
    {
      "cell_type": "code",
      "execution_count": 30,
      "metadata": {
        "colab": {
          "base_uri": "https://localhost:8080/"
        },
        "id": "1Y2ilaFYwV8E",
        "outputId": "de600d02-ebaf-4947-8dfa-874ca0de11a2"
      },
      "outputs": [
        {
          "output_type": "execute_result",
          "data": {
            "text/plain": [
              "False    823656\n",
              "True     160831\n",
              "Name: regex3, dtype: int64"
            ]
          },
          "metadata": {},
          "execution_count": 30
        }
      ],
      "source": [
        "data['regex3'].value_counts()"
      ]
    },
    {
      "cell_type": "code",
      "execution_count": 31,
      "metadata": {
        "id": "kVDQNF--xxz6",
        "colab": {
          "base_uri": "https://localhost:8080/"
        },
        "outputId": "b3fd7d96-76ba-48bb-ace7-d5246d9ef3be"
      },
      "outputs": [
        {
          "output_type": "stream",
          "name": "stderr",
          "text": [
            "<ipython-input-31-e29e5544df85>:1: UserWarning: This pattern has match groups. To actually get the groups, use str.extract.\n",
            "  data['regex4'] = data['description'].str.contains(r'((\\+7|8)(-\\d{2,3}){4})')\n"
          ]
        }
      ],
      "source": [
        "data['regex4'] = data['description'].str.contains(r'((\\+7|8)(-\\d{2,3}){4})') \n"
      ]
    },
    {
      "cell_type": "code",
      "execution_count": 32,
      "metadata": {
        "colab": {
          "base_uri": "https://localhost:8080/"
        },
        "id": "YxJTqchhwdR_",
        "outputId": "89951813-5284-43e7-bc89-fdda2df972b2"
      },
      "outputs": [
        {
          "output_type": "execute_result",
          "data": {
            "text/plain": [
              "False    976209\n",
              "True       8278\n",
              "Name: regex4, dtype: int64"
            ]
          },
          "metadata": {},
          "execution_count": 32
        }
      ],
      "source": [
        "data['regex4'].value_counts()"
      ]
    },
    {
      "cell_type": "code",
      "execution_count": 33,
      "metadata": {
        "id": "_9ioooRaetSR"
      },
      "outputs": [],
      "source": [
        "data['regex5'] = data['description'].str.contains(r'vk', flags = re.IGNORECASE)"
      ]
    },
    {
      "cell_type": "code",
      "execution_count": 34,
      "metadata": {
        "colab": {
          "base_uri": "https://localhost:8080/"
        },
        "id": "_JhLWsNOwilm",
        "outputId": "2f0cc572-63c1-4765-eed3-bf8c9b735da1"
      },
      "outputs": [
        {
          "output_type": "execute_result",
          "data": {
            "text/plain": [
              "False    977667\n",
              "True       6820\n",
              "Name: regex5, dtype: int64"
            ]
          },
          "metadata": {},
          "execution_count": 34
        }
      ],
      "source": [
        "data['regex5'].value_counts()"
      ]
    },
    {
      "cell_type": "code",
      "execution_count": 35,
      "metadata": {
        "id": "qI7XL59KjmKP"
      },
      "outputs": [],
      "source": [
        "data['regex6'] = data['description'].str.contains(r'viber', flags = re.IGNORECASE)"
      ]
    },
    {
      "cell_type": "code",
      "execution_count": 36,
      "metadata": {
        "colab": {
          "base_uri": "https://localhost:8080/"
        },
        "id": "Z21HBYVYwnjN",
        "outputId": "5c5f574a-8a67-4482-b86c-e4afca528432"
      },
      "outputs": [
        {
          "output_type": "execute_result",
          "data": {
            "text/plain": [
              "False    960057\n",
              "True      24430\n",
              "Name: regex6, dtype: int64"
            ]
          },
          "metadata": {},
          "execution_count": 36
        }
      ],
      "source": [
        "data['regex6'].value_counts()"
      ]
    },
    {
      "cell_type": "code",
      "execution_count": 42,
      "metadata": {
        "id": "Q9PbyEKaoXSN"
      },
      "outputs": [],
      "source": [
        "data['regex'] = data[['reg1','regex2','regex3','regex4','regex5','regex6']].max(1).astype(int)"
      ]
    },
    {
      "cell_type": "markdown",
      "source": [
        "После создания 6 столбцов для регулярных выражений, соберем данные в один столбец, где в столбцах с регулярными выражениями, если есть хотя бы одно значение `True`, то у нового столбца тоже будет значение `True`. Посмотрим на нашу таблицу"
      ],
      "metadata": {
        "id": "Rx_tJLLgBjzi"
      }
    },
    {
      "cell_type": "code",
      "execution_count": 38,
      "metadata": {
        "colab": {
          "base_uri": "https://localhost:8080/",
          "height": 641
        },
        "id": "o4I-j0YGR4rx",
        "outputId": "11134346-8b4a-4f33-86d0-5c0b0c3186ee"
      },
      "outputs": [
        {
          "output_type": "execute_result",
          "data": {
            "text/plain": [
              "                                            title  \\\n",
              "0                                   Диван-кровать   \n",
              "1         Кожух рулевой колонки Даф хф 91 4509834   \n",
              "2                   Дешёвый буст аккаунтов Dota 4   \n",
              "3               Телевизор sharp.Смарт тв.Интернет   \n",
              "4                                Открытка-конверт   \n",
              "...                                           ...   \n",
              "984482                                 Штампы 61r   \n",
              "984483                                       Juul   \n",
              "984484                            Белый стул IKEA   \n",
              "984485               5-к квартира, 32 м², 2/2 эт.   \n",
              "984486  Репетитор по математике, подготовка к огэ   \n",
              "\n",
              "                                              description  \\\n",
              "0       Продаем диван-кровать. Удобный механизм - евро...   \n",
              "1       Кожух рулевой колонки DAF XF 94 (60066004)/\\n ...   \n",
              "2       ! Буст аккаунтов с ммр выше 1000ммр не беру ! ...   \n",
              "3       Продам телевизор . Диагональ 450.наличие входа...   \n",
              "4       Открытки-конверты ручной работы/\\nВыполнены в ...   \n",
              "...                                                   ...   \n",
              "984482  +79780979761/\\nДенис/\\nширину обода и вылет на...   \n",
              "984483                         Зарядка и под в комплекте.   \n",
              "984484  Белый стул Ikea /\\nСостояние требует ремонта: ...   \n",
              "984485  Бронирование с октября по январь 1010 г./\\n   ...   \n",
              "984486  Основное и самое любимое направление моей рабо...   \n",
              "\n",
              "                  subcategory             category    price  \\\n",
              "0           Мебель и интерьер      Для дома и дачи   7000.0   \n",
              "1       Запчасти и аксессуары            Транспорт   2290.0   \n",
              "2           Предложение услуг               Услуги    200.0   \n",
              "3               Аудио и видео  Бытовая электроника  25000.0   \n",
              "4          Коллекционирование        Хобби и отдых    150.0   \n",
              "...                       ...                  ...      ...   \n",
              "984482  Запчасти и аксессуары            Транспорт   2000.0   \n",
              "984483     Коллекционирование        Хобби и отдых   1200.0   \n",
              "984484      Мебель и интерьер      Для дома и дачи    500.0   \n",
              "984485               Квартиры         Недвижимость    800.0   \n",
              "984486      Предложение услуг               Услуги   1300.0   \n",
              "\n",
              "                         region             city         datetime_submitted  \\\n",
              "0                        Москва           Москва 2019-06-01 00:00:15.180656   \n",
              "1                        Москва           Москва 2019-06-01 00:00:44.317933   \n",
              "2               Северная Осетия      Владикавказ 2019-06-01 00:00:50.249692   \n",
              "3       Калининградская область          Советск 2019-06-01 00:00:50.325799   \n",
              "4           Ставропольский край     Ессентукская 2019-06-01 00:00:56.632655   \n",
              "...                         ...              ...                        ...   \n",
              "984482                     Крым           Мирное 2019-10-09 23:55:54.099019   \n",
              "984483                   Москва           Москва 2019-10-09 23:56:13.283059   \n",
              "984484          Санкт-Петербург  Санкт-Петербург 2019-10-09 23:58:42.377241   \n",
              "984485  Калининградская область      Калининград 2019-10-09 23:59:26.744680   \n",
              "984486       Московская область         Балашиха 2019-10-09 23:59:41.342367   \n",
              "\n",
              "        is_bad   reg1  regex2  regex3  regex4  regex5  regex6  regex  \n",
              "0          0.0  False   False   False   False   False   False  False  \n",
              "1          0.0  False   False   False   False   False   False  False  \n",
              "2          1.0  False   False   False   False    True   False   True  \n",
              "3          1.0  False   False   False   False   False   False  False  \n",
              "4          0.0  False   False   False   False   False   False  False  \n",
              "...        ...    ...     ...     ...     ...     ...     ...    ...  \n",
              "984482     1.0   True   False    True   False   False   False   True  \n",
              "984483     0.0  False   False   False   False   False   False  False  \n",
              "984484     0.0  False   False   False   False   False   False  False  \n",
              "984485     0.0  False   False   False   False   False    True   True  \n",
              "984486     1.0  False   False   False   False   False    True   True  \n",
              "\n",
              "[984487 rows x 16 columns]"
            ],
            "text/html": [
              "\n",
              "  <div id=\"df-3f38fe8b-8443-4da9-abac-be5d2067515c\">\n",
              "    <div class=\"colab-df-container\">\n",
              "      <div>\n",
              "<style scoped>\n",
              "    .dataframe tbody tr th:only-of-type {\n",
              "        vertical-align: middle;\n",
              "    }\n",
              "\n",
              "    .dataframe tbody tr th {\n",
              "        vertical-align: top;\n",
              "    }\n",
              "\n",
              "    .dataframe thead th {\n",
              "        text-align: right;\n",
              "    }\n",
              "</style>\n",
              "<table border=\"1\" class=\"dataframe\">\n",
              "  <thead>\n",
              "    <tr style=\"text-align: right;\">\n",
              "      <th></th>\n",
              "      <th>title</th>\n",
              "      <th>description</th>\n",
              "      <th>subcategory</th>\n",
              "      <th>category</th>\n",
              "      <th>price</th>\n",
              "      <th>region</th>\n",
              "      <th>city</th>\n",
              "      <th>datetime_submitted</th>\n",
              "      <th>is_bad</th>\n",
              "      <th>reg1</th>\n",
              "      <th>regex2</th>\n",
              "      <th>regex3</th>\n",
              "      <th>regex4</th>\n",
              "      <th>regex5</th>\n",
              "      <th>regex6</th>\n",
              "      <th>regex</th>\n",
              "    </tr>\n",
              "  </thead>\n",
              "  <tbody>\n",
              "    <tr>\n",
              "      <th>0</th>\n",
              "      <td>Диван-кровать</td>\n",
              "      <td>Продаем диван-кровать. Удобный механизм - евро...</td>\n",
              "      <td>Мебель и интерьер</td>\n",
              "      <td>Для дома и дачи</td>\n",
              "      <td>7000.0</td>\n",
              "      <td>Москва</td>\n",
              "      <td>Москва</td>\n",
              "      <td>2019-06-01 00:00:15.180656</td>\n",
              "      <td>0.0</td>\n",
              "      <td>False</td>\n",
              "      <td>False</td>\n",
              "      <td>False</td>\n",
              "      <td>False</td>\n",
              "      <td>False</td>\n",
              "      <td>False</td>\n",
              "      <td>False</td>\n",
              "    </tr>\n",
              "    <tr>\n",
              "      <th>1</th>\n",
              "      <td>Кожух рулевой колонки Даф хф 91 4509834</td>\n",
              "      <td>Кожух рулевой колонки DAF XF 94 (60066004)/\\n ...</td>\n",
              "      <td>Запчасти и аксессуары</td>\n",
              "      <td>Транспорт</td>\n",
              "      <td>2290.0</td>\n",
              "      <td>Москва</td>\n",
              "      <td>Москва</td>\n",
              "      <td>2019-06-01 00:00:44.317933</td>\n",
              "      <td>0.0</td>\n",
              "      <td>False</td>\n",
              "      <td>False</td>\n",
              "      <td>False</td>\n",
              "      <td>False</td>\n",
              "      <td>False</td>\n",
              "      <td>False</td>\n",
              "      <td>False</td>\n",
              "    </tr>\n",
              "    <tr>\n",
              "      <th>2</th>\n",
              "      <td>Дешёвый буст аккаунтов Dota 4</td>\n",
              "      <td>! Буст аккаунтов с ммр выше 1000ммр не беру ! ...</td>\n",
              "      <td>Предложение услуг</td>\n",
              "      <td>Услуги</td>\n",
              "      <td>200.0</td>\n",
              "      <td>Северная Осетия</td>\n",
              "      <td>Владикавказ</td>\n",
              "      <td>2019-06-01 00:00:50.249692</td>\n",
              "      <td>1.0</td>\n",
              "      <td>False</td>\n",
              "      <td>False</td>\n",
              "      <td>False</td>\n",
              "      <td>False</td>\n",
              "      <td>True</td>\n",
              "      <td>False</td>\n",
              "      <td>True</td>\n",
              "    </tr>\n",
              "    <tr>\n",
              "      <th>3</th>\n",
              "      <td>Телевизор sharp.Смарт тв.Интернет</td>\n",
              "      <td>Продам телевизор . Диагональ 450.наличие входа...</td>\n",
              "      <td>Аудио и видео</td>\n",
              "      <td>Бытовая электроника</td>\n",
              "      <td>25000.0</td>\n",
              "      <td>Калининградская область</td>\n",
              "      <td>Советск</td>\n",
              "      <td>2019-06-01 00:00:50.325799</td>\n",
              "      <td>1.0</td>\n",
              "      <td>False</td>\n",
              "      <td>False</td>\n",
              "      <td>False</td>\n",
              "      <td>False</td>\n",
              "      <td>False</td>\n",
              "      <td>False</td>\n",
              "      <td>False</td>\n",
              "    </tr>\n",
              "    <tr>\n",
              "      <th>4</th>\n",
              "      <td>Открытка-конверт</td>\n",
              "      <td>Открытки-конверты ручной работы/\\nВыполнены в ...</td>\n",
              "      <td>Коллекционирование</td>\n",
              "      <td>Хобби и отдых</td>\n",
              "      <td>150.0</td>\n",
              "      <td>Ставропольский край</td>\n",
              "      <td>Ессентукская</td>\n",
              "      <td>2019-06-01 00:00:56.632655</td>\n",
              "      <td>0.0</td>\n",
              "      <td>False</td>\n",
              "      <td>False</td>\n",
              "      <td>False</td>\n",
              "      <td>False</td>\n",
              "      <td>False</td>\n",
              "      <td>False</td>\n",
              "      <td>False</td>\n",
              "    </tr>\n",
              "    <tr>\n",
              "      <th>...</th>\n",
              "      <td>...</td>\n",
              "      <td>...</td>\n",
              "      <td>...</td>\n",
              "      <td>...</td>\n",
              "      <td>...</td>\n",
              "      <td>...</td>\n",
              "      <td>...</td>\n",
              "      <td>...</td>\n",
              "      <td>...</td>\n",
              "      <td>...</td>\n",
              "      <td>...</td>\n",
              "      <td>...</td>\n",
              "      <td>...</td>\n",
              "      <td>...</td>\n",
              "      <td>...</td>\n",
              "      <td>...</td>\n",
              "    </tr>\n",
              "    <tr>\n",
              "      <th>984482</th>\n",
              "      <td>Штампы 61r</td>\n",
              "      <td>+79780979761/\\nДенис/\\nширину обода и вылет на...</td>\n",
              "      <td>Запчасти и аксессуары</td>\n",
              "      <td>Транспорт</td>\n",
              "      <td>2000.0</td>\n",
              "      <td>Крым</td>\n",
              "      <td>Мирное</td>\n",
              "      <td>2019-10-09 23:55:54.099019</td>\n",
              "      <td>1.0</td>\n",
              "      <td>True</td>\n",
              "      <td>False</td>\n",
              "      <td>True</td>\n",
              "      <td>False</td>\n",
              "      <td>False</td>\n",
              "      <td>False</td>\n",
              "      <td>True</td>\n",
              "    </tr>\n",
              "    <tr>\n",
              "      <th>984483</th>\n",
              "      <td>Juul</td>\n",
              "      <td>Зарядка и под в комплекте.</td>\n",
              "      <td>Коллекционирование</td>\n",
              "      <td>Хобби и отдых</td>\n",
              "      <td>1200.0</td>\n",
              "      <td>Москва</td>\n",
              "      <td>Москва</td>\n",
              "      <td>2019-10-09 23:56:13.283059</td>\n",
              "      <td>0.0</td>\n",
              "      <td>False</td>\n",
              "      <td>False</td>\n",
              "      <td>False</td>\n",
              "      <td>False</td>\n",
              "      <td>False</td>\n",
              "      <td>False</td>\n",
              "      <td>False</td>\n",
              "    </tr>\n",
              "    <tr>\n",
              "      <th>984484</th>\n",
              "      <td>Белый стул IKEA</td>\n",
              "      <td>Белый стул Ikea /\\nСостояние требует ремонта: ...</td>\n",
              "      <td>Мебель и интерьер</td>\n",
              "      <td>Для дома и дачи</td>\n",
              "      <td>500.0</td>\n",
              "      <td>Санкт-Петербург</td>\n",
              "      <td>Санкт-Петербург</td>\n",
              "      <td>2019-10-09 23:58:42.377241</td>\n",
              "      <td>0.0</td>\n",
              "      <td>False</td>\n",
              "      <td>False</td>\n",
              "      <td>False</td>\n",
              "      <td>False</td>\n",
              "      <td>False</td>\n",
              "      <td>False</td>\n",
              "      <td>False</td>\n",
              "    </tr>\n",
              "    <tr>\n",
              "      <th>984485</th>\n",
              "      <td>5-к квартира, 32 м², 2/2 эт.</td>\n",
              "      <td>Бронирование с октября по январь 1010 г./\\n   ...</td>\n",
              "      <td>Квартиры</td>\n",
              "      <td>Недвижимость</td>\n",
              "      <td>800.0</td>\n",
              "      <td>Калининградская область</td>\n",
              "      <td>Калининград</td>\n",
              "      <td>2019-10-09 23:59:26.744680</td>\n",
              "      <td>0.0</td>\n",
              "      <td>False</td>\n",
              "      <td>False</td>\n",
              "      <td>False</td>\n",
              "      <td>False</td>\n",
              "      <td>False</td>\n",
              "      <td>True</td>\n",
              "      <td>True</td>\n",
              "    </tr>\n",
              "    <tr>\n",
              "      <th>984486</th>\n",
              "      <td>Репетитор по математике, подготовка к огэ</td>\n",
              "      <td>Основное и самое любимое направление моей рабо...</td>\n",
              "      <td>Предложение услуг</td>\n",
              "      <td>Услуги</td>\n",
              "      <td>1300.0</td>\n",
              "      <td>Московская область</td>\n",
              "      <td>Балашиха</td>\n",
              "      <td>2019-10-09 23:59:41.342367</td>\n",
              "      <td>1.0</td>\n",
              "      <td>False</td>\n",
              "      <td>False</td>\n",
              "      <td>False</td>\n",
              "      <td>False</td>\n",
              "      <td>False</td>\n",
              "      <td>True</td>\n",
              "      <td>True</td>\n",
              "    </tr>\n",
              "  </tbody>\n",
              "</table>\n",
              "<p>984487 rows × 16 columns</p>\n",
              "</div>\n",
              "      <button class=\"colab-df-convert\" onclick=\"convertToInteractive('df-3f38fe8b-8443-4da9-abac-be5d2067515c')\"\n",
              "              title=\"Convert this dataframe to an interactive table.\"\n",
              "              style=\"display:none;\">\n",
              "        \n",
              "  <svg xmlns=\"http://www.w3.org/2000/svg\" height=\"24px\"viewBox=\"0 0 24 24\"\n",
              "       width=\"24px\">\n",
              "    <path d=\"M0 0h24v24H0V0z\" fill=\"none\"/>\n",
              "    <path d=\"M18.56 5.44l.94 2.06.94-2.06 2.06-.94-2.06-.94-.94-2.06-.94 2.06-2.06.94zm-11 1L8.5 8.5l.94-2.06 2.06-.94-2.06-.94L8.5 2.5l-.94 2.06-2.06.94zm10 10l.94 2.06.94-2.06 2.06-.94-2.06-.94-.94-2.06-.94 2.06-2.06.94z\"/><path d=\"M17.41 7.96l-1.37-1.37c-.4-.4-.92-.59-1.43-.59-.52 0-1.04.2-1.43.59L10.3 9.45l-7.72 7.72c-.78.78-.78 2.05 0 2.83L4 21.41c.39.39.9.59 1.41.59.51 0 1.02-.2 1.41-.59l7.78-7.78 2.81-2.81c.8-.78.8-2.07 0-2.86zM5.41 20L4 18.59l7.72-7.72 1.47 1.35L5.41 20z\"/>\n",
              "  </svg>\n",
              "      </button>\n",
              "      \n",
              "  <style>\n",
              "    .colab-df-container {\n",
              "      display:flex;\n",
              "      flex-wrap:wrap;\n",
              "      gap: 12px;\n",
              "    }\n",
              "\n",
              "    .colab-df-convert {\n",
              "      background-color: #E8F0FE;\n",
              "      border: none;\n",
              "      border-radius: 50%;\n",
              "      cursor: pointer;\n",
              "      display: none;\n",
              "      fill: #1967D2;\n",
              "      height: 32px;\n",
              "      padding: 0 0 0 0;\n",
              "      width: 32px;\n",
              "    }\n",
              "\n",
              "    .colab-df-convert:hover {\n",
              "      background-color: #E2EBFA;\n",
              "      box-shadow: 0px 1px 2px rgba(60, 64, 67, 0.3), 0px 1px 3px 1px rgba(60, 64, 67, 0.15);\n",
              "      fill: #174EA6;\n",
              "    }\n",
              "\n",
              "    [theme=dark] .colab-df-convert {\n",
              "      background-color: #3B4455;\n",
              "      fill: #D2E3FC;\n",
              "    }\n",
              "\n",
              "    [theme=dark] .colab-df-convert:hover {\n",
              "      background-color: #434B5C;\n",
              "      box-shadow: 0px 1px 3px 1px rgba(0, 0, 0, 0.15);\n",
              "      filter: drop-shadow(0px 1px 2px rgba(0, 0, 0, 0.3));\n",
              "      fill: #FFFFFF;\n",
              "    }\n",
              "  </style>\n",
              "\n",
              "      <script>\n",
              "        const buttonEl =\n",
              "          document.querySelector('#df-3f38fe8b-8443-4da9-abac-be5d2067515c button.colab-df-convert');\n",
              "        buttonEl.style.display =\n",
              "          google.colab.kernel.accessAllowed ? 'block' : 'none';\n",
              "\n",
              "        async function convertToInteractive(key) {\n",
              "          const element = document.querySelector('#df-3f38fe8b-8443-4da9-abac-be5d2067515c');\n",
              "          const dataTable =\n",
              "            await google.colab.kernel.invokeFunction('convertToInteractive',\n",
              "                                                     [key], {});\n",
              "          if (!dataTable) return;\n",
              "\n",
              "          const docLinkHtml = 'Like what you see? Visit the ' +\n",
              "            '<a target=\"_blank\" href=https://colab.research.google.com/notebooks/data_table.ipynb>data table notebook</a>'\n",
              "            + ' to learn more about interactive tables.';\n",
              "          element.innerHTML = '';\n",
              "          dataTable['output_type'] = 'display_data';\n",
              "          await google.colab.output.renderOutput(dataTable, element);\n",
              "          const docLink = document.createElement('div');\n",
              "          docLink.innerHTML = docLinkHtml;\n",
              "          element.appendChild(docLink);\n",
              "        }\n",
              "      </script>\n",
              "    </div>\n",
              "  </div>\n",
              "  "
            ]
          },
          "metadata": {},
          "execution_count": 38
        }
      ],
      "source": [
        "data"
      ]
    },
    {
      "cell_type": "markdown",
      "source": [
        "Теперь можно сравнить значения в столбце `is_bad` и значения в столбце `regex`. Количество записей отличается не намного, но оличается, что говорит о возможности усовершенствования регулярных выражений в дальнейшем"
      ],
      "metadata": {
        "id": "eHMZ1eShCr4h"
      }
    },
    {
      "cell_type": "code",
      "execution_count": 39,
      "metadata": {
        "colab": {
          "base_uri": "https://localhost:8080/"
        },
        "id": "f925cNjbvEm0",
        "outputId": "945aa4ae-96c0-4709-c1b7-1669fd94a71d"
      },
      "outputs": [
        {
          "output_type": "execute_result",
          "data": {
            "text/plain": [
              "0.0    746221\n",
              "1.0    238266\n",
              "Name: is_bad, dtype: int64"
            ]
          },
          "metadata": {},
          "execution_count": 39
        }
      ],
      "source": [
        "data.is_bad.value_counts()"
      ]
    },
    {
      "cell_type": "code",
      "execution_count": 43,
      "metadata": {
        "colab": {
          "base_uri": "https://localhost:8080/"
        },
        "id": "TNnQPDXqvNAO",
        "outputId": "08c55984-89f4-48a3-edd8-5377fce80b19"
      },
      "outputs": [
        {
          "output_type": "execute_result",
          "data": {
            "text/plain": [
              "0    780285\n",
              "1    204202\n",
              "Name: regex, dtype: int64"
            ]
          },
          "metadata": {},
          "execution_count": 43
        }
      ],
      "source": [
        "data.regex.value_counts()"
      ]
    },
    {
      "cell_type": "code",
      "source": [
        "data.groupby(['is_bad','regex']).title.count()"
      ],
      "metadata": {
        "colab": {
          "base_uri": "https://localhost:8080/"
        },
        "id": "iwCfE_O0DgHU",
        "outputId": "d70e27c5-6297-4962-db3c-08f48c950e19"
      },
      "execution_count": 47,
      "outputs": [
        {
          "output_type": "execute_result",
          "data": {
            "text/plain": [
              "is_bad  regex\n",
              "0.0     0        661320\n",
              "        1         84901\n",
              "1.0     0        118965\n",
              "        1        119301\n",
              "Name: title, dtype: int64"
            ]
          },
          "metadata": {},
          "execution_count": 47
        }
      ]
    },
    {
      "cell_type": "code",
      "source": [
        "from sklearn.metrics import accuracy_score"
      ],
      "metadata": {
        "id": "cwyyz1gWIIek"
      },
      "execution_count": 48,
      "outputs": []
    },
    {
      "cell_type": "code",
      "source": [
        "accuracy_score(data.is_bad,data.regex)"
      ],
      "metadata": {
        "colab": {
          "base_uri": "https://localhost:8080/"
        },
        "id": "uCTzuUJdIXcI",
        "outputId": "e7c13f1f-26c2-4f92-c409-19e9a5a2e242"
      },
      "execution_count": 49,
      "outputs": [
        {
          "output_type": "execute_result",
          "data": {
            "text/plain": [
              "0.7929215926670439"
            ]
          },
          "metadata": {},
          "execution_count": 49
        }
      ]
    }
  ],
  "metadata": {
    "colab": {
      "provenance": [],
      "mount_file_id": "1s5UrHeKRqeeIT8OxN07CZdMmW8A0JcsG",
      "authorship_tag": "ABX9TyNJWqzn3yn00TmMGHmdj3if",
      "include_colab_link": true
    },
    "kernelspec": {
      "display_name": "Python 3",
      "name": "python3"
    },
    "language_info": {
      "name": "python"
    }
  },
  "nbformat": 4,
  "nbformat_minor": 0
}